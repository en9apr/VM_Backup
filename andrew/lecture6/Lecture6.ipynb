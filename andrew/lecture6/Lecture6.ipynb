{
 "metadata": {
  "name": "",
  "signature": "sha256:aabd890bfc32d5fb2f56a86d2fa0967cb1795e437e9963c8cb154fbe1ba0f0bd"
 },
 "nbformat": 3,
 "nbformat_minor": 0,
 "worksheets": [
  {
   "cells": [
    {
     "cell_type": "code",
     "collapsed": false,
     "input": [
      "pwd"
     ],
     "language": "python",
     "metadata": {},
     "outputs": [
      {
       "metadata": {},
       "output_type": "pyout",
       "prompt_number": 1,
       "text": [
        "u'/home/uwhpsc/Programs/andrew/lecture6'"
       ]
      }
     ],
     "prompt_number": 1
    },
    {
     "cell_type": "code",
     "collapsed": true,
     "input": [
      "import mysqrt"
     ],
     "language": "python",
     "metadata": {},
     "outputs": [],
     "prompt_number": 2
    },
    {
     "cell_type": "code",
     "collapsed": false,
     "input": [
      "mysqrt.test()"
     ],
     "language": "python",
     "metadata": {},
     "outputs": [
      {
       "output_type": "stream",
       "stream": "stdout",
       "text": [
        "Testing with x = 0.000000000000000e+00\n",
        "s = 0.000000000000000e+00, numpy.sqrt = 0.000000000000000e+00\n",
        "Testing with x = 2.000000000000000e+00\n",
        "s = 1.414213562373095e+00, numpy.sqrt = 1.414213562373095e+00\n",
        "Testing with x = 1.000000000000000e+02\n",
        "s = 1.000000000000000e+01, numpy.sqrt = 1.000000000000000e+01\n",
        "Testing with x = 1.000000000000000e+04\n",
        "s = 1.000000000000000e+02, numpy.sqrt = 1.000000000000000e+02\n",
        "Testing with x = 1.000000000000000e-04\n",
        "s = 1.000000000000000e-02, numpy.sqrt = 1.000000000000000e-02\n"
       ]
      }
     ],
     "prompt_number": 3
    },
    {
     "cell_type": "code",
     "collapsed": false,
     "input": [
      "run mysqrt.py"
     ],
     "language": "python",
     "metadata": {},
     "outputs": [
      {
       "output_type": "stream",
       "stream": "stdout",
       "text": [
        "Running test\n",
        "Testing with x = 0.000000000000000e+00\n",
        "s = 0.000000000000000e+00, numpy.sqrt = 0.000000000000000e+00\n",
        "Testing with x = 2.000000000000000e+00\n",
        "s = 1.414213562373095e+00, numpy.sqrt = 1.414213562373095e+00\n",
        "Testing with x = 1.000000000000000e+02\n",
        "s = 1.000000000000000e+01, numpy.sqrt = 1.000000000000000e+01\n",
        "Testing with x = 1.000000000000000e+04\n",
        "s = 1.000000000000000e+02, numpy.sqrt = 1.000000000000000e+02\n",
        "Testing with x = 1.000000000000000e-04\n",
        "s = 1.000000000000000e-02, numpy.sqrt = 1.000000000000000e-02\n"
       ]
      }
     ],
     "prompt_number": 4
    },
    {
     "cell_type": "code",
     "collapsed": false,
     "input": [
      "mysqrt.__name__"
     ],
     "language": "python",
     "metadata": {},
     "outputs": [
      {
       "metadata": {},
       "output_type": "pyout",
       "prompt_number": 5,
       "text": [
        "'mysqrt'"
       ]
      }
     ],
     "prompt_number": 5
    },
    {
     "cell_type": "code",
     "collapsed": false,
     "input": [
      "time sqrt(2.)"
     ],
     "language": "python",
     "metadata": {},
     "outputs": [
      {
       "output_type": "stream",
       "stream": "stdout",
       "text": [
        "CPU times: user 0 ns, sys: 0 ns, total: 0 ns\n",
        "Wall time: 31.9 \u00b5s\n"
       ]
      },
      {
       "metadata": {},
       "output_type": "pyout",
       "prompt_number": 6,
       "text": [
        "1.4142135623730951"
       ]
      }
     ],
     "prompt_number": 6
    },
    {
     "cell_type": "code",
     "collapsed": false,
     "input": [
      "timeit sqrt(2.)"
     ],
     "language": "python",
     "metadata": {},
     "outputs": [
      {
       "output_type": "stream",
       "stream": "stdout",
       "text": [
        "100000 loops, best of 3: 1.05 \u00b5s per loop\n"
       ]
      }
     ],
     "prompt_number": 7
    },
    {
     "cell_type": "code",
     "collapsed": false,
     "input": [
      "timeit sqrt(2.)"
     ],
     "language": "python",
     "metadata": {},
     "outputs": [
      {
       "output_type": "stream",
       "stream": "stdout",
       "text": [
        "1000000 loops, best of 3: 1.01 \u00b5s per loop\n"
       ]
      }
     ],
     "prompt_number": 8
    },
    {
     "cell_type": "markdown",
     "metadata": {},
     "source": [
      "us means micro-seconds, 1e-6 seconds"
     ]
    },
    {
     "cell_type": "code",
     "collapsed": false,
     "input": [
      "timeit mysqrt.sqrt2(2.)"
     ],
     "language": "python",
     "metadata": {},
     "outputs": [
      {
       "output_type": "stream",
       "stream": "stdout",
       "text": [
        "100000 loops, best of 3: 2.89 \u00b5s per loop\n"
       ]
      }
     ],
     "prompt_number": 9
    },
    {
     "cell_type": "code",
     "collapsed": false,
     "input": [
      "timeit y=sqrt(linspace(0,1,1000))"
     ],
     "language": "python",
     "metadata": {},
     "outputs": [
      {
       "output_type": "stream",
       "stream": "stdout",
       "text": [
        "100000 loops, best of 3: 15.7 \u00b5s per loop\n"
       ]
      }
     ],
     "prompt_number": 10
    },
    {
     "cell_type": "code",
     "collapsed": false,
     "input": [
      "%%timeit\n",
      "y=zeros(1000)\n",
      "for i in range(1000):\n",
      "    y[i]=sqrt(i)"
     ],
     "language": "python",
     "metadata": {},
     "outputs": [
      {
       "output_type": "stream",
       "stream": "stdout",
       "text": [
        "1000 loops, best of 3: 1.3 ms per loop\n"
       ]
      }
     ],
     "prompt_number": 11
    },
    {
     "cell_type": "markdown",
     "metadata": {},
     "source": [
      "ms = milliseconds = 1e-3 seconds = 1000 micro seconds"
     ]
    },
    {
     "cell_type": "code",
     "collapsed": false,
     "input": [],
     "language": "python",
     "metadata": {},
     "outputs": [],
     "prompt_number": 11
    },
    {
     "cell_type": "code",
     "collapsed": false,
     "input": [],
     "language": "python",
     "metadata": {},
     "outputs": [],
     "prompt_number": 11
    }
   ],
   "metadata": {}
  }
 ]
}