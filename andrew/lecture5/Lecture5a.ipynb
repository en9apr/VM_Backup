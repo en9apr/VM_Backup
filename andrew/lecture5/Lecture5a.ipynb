{
 "metadata": {
  "name": "Lecture5a"
 }, 
 "nbformat": 2, 
 "worksheets": [
  {
   "cells": [
    {
     "cell_type": "markdown", 
     "source": [
      "Lecture 5 demo - Demo of plotting $y = \\cos(x)$ and $y = -\\cos(x)$"
     ]
    }, 
    {
     "cell_type": "code", 
     "collapsed": true, 
     "input": [
      "x=linspace(0,5*pi,1000)", 
      "y=cos(x)"
     ], 
     "language": "python", 
     "outputs": [], 
     "prompt_number": 16
    }, 
    {
     "cell_type": "code", 
     "collapsed": false, 
     "input": [
      "print y[11]"
     ], 
     "language": "python", 
     "outputs": [], 
     "prompt_number": 17
    }, 
    {
     "cell_type": "code", 
     "collapsed": false, 
     "input": [
      "plot(x,y)", 
      "plot(x,-y,'r')"
     ], 
     "language": "python", 
     "outputs": [], 
     "prompt_number": 21
    }, 
    {
     "cell_type": "code", 
     "collapsed": true, 
     "input": [], 
     "language": "python", 
     "outputs": [], 
     "prompt_number": 18
    }
   ]
  }
 ]
}