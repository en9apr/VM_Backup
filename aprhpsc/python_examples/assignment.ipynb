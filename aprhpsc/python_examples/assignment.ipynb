{
 "metadata": {
  "name": "",
  "signature": "sha256:e177c741480543616bede32a47b2c98059080b75c36d026d223ab7228ed5a555"
 },
 "nbformat": 3,
 "nbformat_minor": 0,
 "worksheets": [
  {
   "cells": [
    {
     "cell_type": "markdown",
     "metadata": {},
     "source": [
      "###Assignment###\n",
      "* Single equals ``=`` is used for assignment to variables\n",
      "* Double equals ``==`` is used for testing equality\n",
      "* Plus equals ``+=`` is used to add to an existing variable (can also be used with all other operators)\n",
      "\n",
      "Setting two variables equal to each other copies the value stored in one and assigns it to the other. However, if one of the variables is changed later, the other one will not change e.g."
     ]
    },
    {
     "cell_type": "code",
     "collapsed": false,
     "input": [
      "# Assignment\n",
      "# =\n",
      "# +=\n",
      "# -=\n",
      "# /=\n",
      "# *=\n",
      "# **=\n",
      "\n",
      "a=2\n",
      "b=3\n",
      "print \"example 1:\",a,b\n",
      "a=b\n",
      "print \"example 2:\", a,b\n",
      "b=4\n",
      "print \"example 3:\",a,b"
     ],
     "language": "python",
     "metadata": {},
     "outputs": [
      {
       "output_type": "stream",
       "stream": "stdout",
       "text": [
        "example 1: 2 3\n",
        "example 2: 3 3\n",
        "example 3: 3 4\n"
       ]
      }
     ],
     "prompt_number": 5
    },
    {
     "cell_type": "code",
     "collapsed": false,
     "input": [
      "my_age = 51\n",
      "print my_age"
     ],
     "language": "python",
     "metadata": {},
     "outputs": [
      {
       "output_type": "stream",
       "stream": "stdout",
       "text": [
        "51\n"
       ]
      }
     ],
     "prompt_number": 2
    },
    {
     "cell_type": "code",
     "collapsed": false,
     "input": [
      "#birthday  - add one\n",
      "my_age = 51 + 1\n",
      "print my_age\n",
      "\n",
      "#better\n",
      "my_age = my_age + 1\n",
      "print my_age\n",
      "\n",
      "#better still\n",
      "my_age += 1\n",
      "print my_age"
     ],
     "language": "python",
     "metadata": {},
     "outputs": [
      {
       "output_type": "stream",
       "stream": "stdout",
       "text": [
        "52\n",
        "53\n",
        "54\n"
       ]
      }
     ],
     "prompt_number": 3
    },
    {
     "cell_type": "code",
     "collapsed": false,
     "input": [],
     "language": "python",
     "metadata": {},
     "outputs": []
    }
   ],
   "metadata": {}
  }
 ]
}