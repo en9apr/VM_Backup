{
 "metadata": {
  "name": "",
  "signature": "sha256:7d1da087e5bce817624bbb1eb1d65bb934be643e9f54aa4d8bfcc12ede1c7206"
 },
 "nbformat": 3,
 "nbformat_minor": 0,
 "worksheets": [
  {
   "cells": [
    {
     "cell_type": "markdown",
     "metadata": {},
     "source": [
      "###6b.1 Relational Operators###\n",
      "\n",
      "The values of two arithmetic expression can be compared using the operators:\n",
      "\n",
      "    ==\n",
      "    !=\n",
      "    <\n",
      "    >\n",
      "    <=\n",
      "    >=\n",
      "\n",
      "These return either:\n",
      "\n",
      "    True\n",
      "    False\n",
      "    \n",
      "###6b.2 Order of Precedence###\n",
      "\n",
      "| Order   | Name                         | Symbol                    |\n",
      "|---------|------------------------------|---------------------------|\n",
      "|1        |Brackets                      | ``()``                    |\n",
      "|2        |Unary Operations              | ``not - +``               |\n",
      "|3        |Binary Operations 1           | ``**``                    |\n",
      "|4        |Binary Operations 2           | ``* / %``                 |\n",
      "|5        |Binary Operations 3           | ``+ -``                   |\n",
      "|6        |Relational Operations 1       | ``< <= => >``             |   \n",
      "|7        |Relational Operations 2       | ``== !=``                 |\n",
      "|8        |Logical And                   | ``and``                   |\n",
      "|9        |Logical Or                    | ``or``                    |\n",
      "|10       |Assignment                    | ``= += -= *= /= %= **=``  |\n",
      "\n"
     ]
    },
    {
     "cell_type": "code",
     "collapsed": false,
     "input": [
      "# True and False not directly set, but we have comparison operators\n",
      "\n",
      "# Relational operators\n",
      "# >\n",
      "# <\n",
      "# >=\n",
      "# <=\n",
      "# ==\n",
      "# !=\n",
      "\n",
      "a = 7 > 3\n",
      "print a\n",
      "\n",
      "x = 5\n",
      "y = 5\n",
      "b = x > y\n",
      "print b\n",
      "\n",
      "c = \"Hello\" == 'Hello'  #only the text is compared not the quotes\n",
      "print c\n",
      "\n",
      "d = 20.6 <= 18.3\n",
      "print d"
     ],
     "language": "python",
     "metadata": {},
     "outputs": [
      {
       "output_type": "stream",
       "stream": "stdout",
       "text": [
        "True\n",
        "False\n",
        "True\n",
        "False\n"
       ]
      }
     ],
     "prompt_number": 7
    },
    {
     "cell_type": "code",
     "collapsed": false,
     "input": [],
     "language": "python",
     "metadata": {},
     "outputs": []
    }
   ],
   "metadata": {}
  }
 ]
}