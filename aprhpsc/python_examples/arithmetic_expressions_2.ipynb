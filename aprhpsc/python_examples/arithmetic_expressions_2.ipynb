{
 "metadata": {
  "name": "",
  "signature": "sha256:11b4c9120ec5b8bfa95185ca458c6b65b582a977b7103fbb95c2a230c78f654f"
 },
 "nbformat": 3,
 "nbformat_minor": 0,
 "worksheets": [
  {
   "cells": [
    {
     "cell_type": "markdown",
     "metadata": {},
     "source": [
      "Standard long division yields a quotient and a remainder.\n",
      "\n",
      "###5.1 Integer Division ###\n",
      "\n",
      "`//` Yields the quotient\n",
      "\n",
      "###5.2 Modulus###\n",
      "\n",
      "``%`` Yields the remainder\n",
      "\n",
      "###5.3 By Definition###\n",
      "\n",
      "For any integers ``a`` and ``b``\n",
      "\n",
      "``a == b * (a // b) + (a % b)``\n",
      "\n",
      "###5.4 Use of Modular Arithmetic###\n",
      "\n",
      "In Python ``a % b`` always returns an answer between 0 and b (even if a and or b is negative)\n",
      "\n",
      "Remainders and modular arithmetic are very useful in games for the purpose of \"wrapping\" the canvas, i.e. causing objects that pass of one side of the canvas to reappear on the opposite side of the canvas."
     ]
    },
    {
     "cell_type": "code",
     "collapsed": false,
     "input": [
      "# problem - get the ones digit of a number\n",
      "\n",
      "num = 49\n",
      "tens = num // 10\n",
      "ones = num % 10\n",
      "print tens, ones\n",
      "print 10 * tens + ones"
     ],
     "language": "python",
     "metadata": {},
     "outputs": [
      {
       "output_type": "stream",
       "stream": "stdout",
       "text": [
        "4 9\n",
        "49\n"
       ]
      }
     ],
     "prompt_number": 3
    },
    {
     "cell_type": "code",
     "collapsed": false,
     "input": [
      "# application - 24 hour clock: what time is 8hrs after 20:00?\n",
      "\n",
      "hour = 20\n",
      "shift = 8\n",
      "print (hour + shift) % 24 # modulus has higher precedence than addition"
     ],
     "language": "python",
     "metadata": {},
     "outputs": [
      {
       "output_type": "stream",
       "stream": "stdout",
       "text": [
        "4\n"
       ]
      }
     ],
     "prompt_number": 5
    },
    {
     "cell_type": "code",
     "collapsed": false,
     "input": [
      "# application - screen wraparound: what is the position after it has moved through a width?\n",
      "\n",
      "width = 800\n",
      "\n",
      "position = 797\n",
      "move = 5\n",
      "\n",
      "position = (position + move) % width # what is left after we divide be screen  width\n",
      "print position\n",
      "\n",
      "# what happens if we moved backwards (move is negative)?\n",
      "\n",
      "position = 2\n",
      "move = -5\n",
      "\n",
      "position = (position + move) % width # we get back a number in the range 0 to width\n",
      "print position"
     ],
     "language": "python",
     "metadata": {},
     "outputs": [
      {
       "output_type": "stream",
       "stream": "stdout",
       "text": [
        "2\n",
        "797\n"
       ]
      }
     ],
     "prompt_number": 7
    },
    {
     "cell_type": "code",
     "collapsed": false,
     "input": [
      "# how do we convert from int to hours?\n",
      "\n",
      "hour = 3\n",
      "ones = hour % 10\n",
      "tens = hour // 10\n",
      "print tens, ones, \":00\"\n",
      "print str(tens), str(ones), \":00\" #srt converts int into a string\n",
      "print str(tens)+str(ones)+\":00\" #string formatting"
     ],
     "language": "python",
     "metadata": {},
     "outputs": [
      {
       "output_type": "stream",
       "stream": "stdout",
       "text": [
        "0 3 :00\n",
        "0 3 :00\n",
        "03:00\n"
       ]
      }
     ],
     "prompt_number": 11
    },
    {
     "cell_type": "code",
     "collapsed": false,
     "input": [
      "# division in python is not exact:\n",
      "\n",
      "print 0.9 % 0.3"
     ],
     "language": "python",
     "metadata": {},
     "outputs": [
      {
       "output_type": "stream",
       "stream": "stdout",
       "text": [
        "5.55111512313e-17\n"
       ]
      }
     ],
     "prompt_number": 1
    },
    {
     "cell_type": "code",
     "collapsed": false,
     "input": [
      "#modulus\n",
      "\n",
      "print 4 % 7 #Returns quotient 4 (as 4/7 = 0 r4)\n",
      "print 7 % 7 #Returns remainder 0 (as 7/7 = 1) \n",
      "print 9 % 7 #Returns 2 (as 9/7 = 1 r2)\n",
      "\n",
      "# So the modulus will return 0 to 7 (not including 7) for any +ve number"
     ],
     "language": "python",
     "metadata": {},
     "outputs": [
      {
       "output_type": "stream",
       "stream": "stdout",
       "text": [
        "4\n",
        "0\n",
        "2\n"
       ]
      }
     ],
     "prompt_number": 9
    },
    {
     "cell_type": "code",
     "collapsed": false,
     "input": [
      "# Modulus with negative numbers:\n",
      "# First number - do we move in the +ve or -ve direction?\n",
      "# Second number - are we on the +ve or -ve number line?\n",
      "\n",
      "print 5 % 3   # a % b       returns values from 0 to 2\n",
      "print -5 % 3  # b - (a % b) returns values from 2 to 0\n",
      "print -5 % -3 # -(a % b)\n",
      "print 5 % -3  # -(b - (a % b))"
     ],
     "language": "python",
     "metadata": {},
     "outputs": [
      {
       "output_type": "stream",
       "stream": "stdout",
       "text": [
        "2\n",
        "1\n",
        "-2\n",
        "-1\n"
       ]
      }
     ],
     "prompt_number": 24
    },
    {
     "cell_type": "code",
     "collapsed": false,
     "input": [],
     "language": "python",
     "metadata": {},
     "outputs": []
    }
   ],
   "metadata": {}
  }
 ]
}