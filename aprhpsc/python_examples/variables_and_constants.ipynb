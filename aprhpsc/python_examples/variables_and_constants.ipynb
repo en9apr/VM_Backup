{
 "metadata": {
  "name": "",
  "signature": "sha256:050f7e35d02d5076665eb513e1a8d4698e3fb70f3927517e10cf5ca001f71abc"
 },
 "nbformat": 3,
 "nbformat_minor": 0,
 "worksheets": [
  {
   "cells": [
    {
     "cell_type": "markdown",
     "metadata": {},
     "source": [
      "##3.1 Variables##\n",
      "* Placeholders for important values\n",
      "* Make program more efficient\n",
      "* Make program more understandable\n",
      "\n",
      "###3.1.1 Variable Names###\n",
      "* Letters, numbers, underscore\n",
      "* Starts with letter or underscore\n",
      "* Case sensitive\n",
      "\n",
      "####3.1.1.1 Good Names####\n",
      "\n",
      "* Variable names should be descriptive\n",
      "* Python convention is to join multiple words with underscore in variable names, e.g. ``favorite_number = 18``\n",
      "\n",
      "####3.1.1.2 Bad Names####\n",
      "\n",
      "* Variables cannot start with a number, e.g. ``1337ninja``\n",
      "* Don't use keywords as variables (names that change colour), e.g. ``min``, ``max``, ``int``, ``print``, ``import``\n",
      "* Avoid too longer a name"
     ]
    },
    {
     "cell_type": "markdown",
     "metadata": {},
     "source": [
      "###More examples of variables:###"
     ]
    },
    {
     "cell_type": "code",
     "collapsed": false,
     "input": [
      "my_name = \"joe warren\"\n",
      "print my_name"
     ],
     "language": "python",
     "metadata": {},
     "outputs": [
      {
       "output_type": "stream",
       "stream": "stdout",
       "text": [
        "joe warren\n"
       ]
      }
     ],
     "prompt_number": 1
    },
    {
     "cell_type": "code",
     "collapsed": false,
     "input": [
      "my_age = 51\n",
      "print my_age"
     ],
     "language": "python",
     "metadata": {},
     "outputs": [
      {
       "output_type": "stream",
       "stream": "stdout",
       "text": [
        "51\n"
       ]
      }
     ],
     "prompt_number": 1
    },
    {
     "cell_type": "code",
     "collapsed": false,
     "input": [
      "#the story of the magic pill\n",
      "magic_pill = 30\n",
      "print my_age - magic_pill\n",
      "\n",
      "my_granddad = 74\n",
      "\n",
      "print my_granddad - 2 * magic_pill"
     ],
     "language": "python",
     "metadata": {},
     "outputs": [
      {
       "output_type": "stream",
       "stream": "stdout",
       "text": [
        "21\n",
        "14\n"
       ]
      }
     ],
     "prompt_number": 2
    },
    {
     "cell_type": "code",
     "collapsed": false,
     "input": [
      "#Temperature example\n",
      "\n",
      "temp_fahrenheit = 212\n",
      "temp_celcius = 5.0 / 9.0 * (temp_fahrenheit - 32)\n",
      "print temp_celcius # 0degC = 32degF and 100degC = 212degF"
     ],
     "language": "python",
     "metadata": {},
     "outputs": [
      {
       "output_type": "stream",
       "stream": "stdout",
       "text": [
        "100.0\n"
       ]
      }
     ],
     "prompt_number": 3
    },
    {
     "cell_type": "code",
     "collapsed": false,
     "input": [
      "temp_celcius = 100\n",
      "temp_fahrenheit = 9.0 / 5.0 * temp_celcius + 32\n",
      "print temp_fahrenheit # 0degC = 32degF and 100degC = 212degF"
     ],
     "language": "python",
     "metadata": {},
     "outputs": [
      {
       "output_type": "stream",
       "stream": "stdout",
       "text": [
        "212.0\n"
       ]
      }
     ],
     "prompt_number": 4
    },
    {
     "cell_type": "markdown",
     "metadata": {},
     "source": [
      "##3.2 Constants##"
     ]
    },
    {
     "cell_type": "markdown",
     "metadata": {},
     "source": [
      "Python has no constants, just use capital letters, e.g. "
     ]
    },
    {
     "cell_type": "code",
     "collapsed": false,
     "input": [
      "ACCELERATION_G = 9.81\n",
      "TRUCK_MASS = 10000\n",
      "WATER_VISCOSITY = 10**-3"
     ],
     "language": "python",
     "metadata": {},
     "outputs": [],
     "prompt_number": 6
    },
    {
     "cell_type": "code",
     "collapsed": false,
     "input": [],
     "language": "python",
     "metadata": {},
     "outputs": []
    }
   ],
   "metadata": {}
  }
 ]
}