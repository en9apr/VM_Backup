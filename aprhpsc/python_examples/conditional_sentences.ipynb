{
 "metadata": {
  "name": "",
  "signature": "sha256:50fc89f2bb4e2b14feccffeb9df815199f0199555b6b0462b92d0f9f6c11e07a"
 },
 "nbformat": 3,
 "nbformat_minor": 0,
 "worksheets": [
  {
   "cells": [
    {
     "cell_type": "markdown",
     "metadata": {},
     "source": [
      "###7.1 Semantics of Conditional Sentences###\n",
      "\n",
      "* Conditional Sentences, like functions affect the flow of control\n",
      "* Conditional Sentences affect the flow of control by values\n",
      "\n",
      "###7.2 Syntax of Conditional Sentences###\n",
      "\n",
      "* Conditional Sentences are compound sentences consisting of one or more clauses headed by the keywords: \n",
      "\n",
      "    * ``if``\n",
      "    * ``elif``\n",
      "    * ``else``\n",
      "    \n",
      "    \n",
      "* Each ``if`` or ``elif`` clause is followed by a Logical Expression and a colon ``:``\n",
      "* If the Logical Expression for a clause is ``True`` the body of the clause is executed\n",
      "* The body must be indented by 4 spaces (or a tab)"
     ]
    },
    {
     "cell_type": "code",
     "collapsed": false,
     "input": [
      "def greet(friend, money):        # Function has two predicates\n",
      "    if friend and (money > 20):\n",
      "        print \"Hi!\"\n",
      "        money -= 20\n",
      "    elif friend:\n",
      "        print \"Hello!\"\n",
      "    else: \n",
      "        print \"Ha ha!\"\n",
      "        money += 10\n",
      "    return money\n",
      "\n",
      "money = 15\n",
      "\n",
      "money = greet(True, money)\n",
      "print \"Money:\", money\n",
      "print \"\"\n",
      "\n",
      "money = greet(False, money)\n",
      "print \"Money:\", money\n",
      "print \"\"\n",
      "\n",
      "money = greet(True, money)\n",
      "print \"Money:\", money\n",
      "print \"\""
     ],
     "language": "python",
     "metadata": {},
     "outputs": [
      {
       "output_type": "stream",
       "stream": "stdout",
       "text": [
        "Hello!\n",
        "Money: 15\n",
        "\n",
        "Ha ha!\n",
        "Money: 25\n",
        "\n",
        "Hi!\n",
        "Money: 5\n",
        "\n"
       ]
      }
     ],
     "prompt_number": 4
    },
    {
     "cell_type": "code",
     "collapsed": false,
     "input": [
      "# Conditionals Examples\n",
      "\n",
      "# Return True if year is a leap year, False otherwise\n",
      "\n",
      "def is_leap_year(year):          # Testing a predicate - convention to use is_function_name\n",
      "    if(year % 400) == 0:\n",
      "        return True\n",
      "    elif (year % 100) == 0:\n",
      "        return False\n",
      "    elif (year % 4) == 0:\n",
      "        return True\n",
      "    else:\n",
      "        return False\n",
      "    \n",
      "year = 2010\n",
      "leap_year = is_leap_year(year)\n",
      "\n",
      "if leap_year:\n",
      "    print year, \"is a leap year\"\n",
      "else:\n",
      "    print year, \"is not a leap year\"\n",
      "    "
     ],
     "language": "python",
     "metadata": {},
     "outputs": [
      {
       "output_type": "stream",
       "stream": "stdout",
       "text": [
        "2010 is not a leap year\n"
       ]
      }
     ],
     "prompt_number": 10
    },
    {
     "cell_type": "code",
     "collapsed": false,
     "input": [],
     "language": "python",
     "metadata": {},
     "outputs": []
    }
   ],
   "metadata": {}
  }
 ]
}