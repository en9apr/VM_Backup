{
 "metadata": {
  "name": "",
  "signature": "sha256:04c971a368e9c3820596c65c8ba64c0a988a9a3988afbc602ac6977b47ed0822"
 },
 "nbformat": 3,
 "nbformat_minor": 0,
 "worksheets": [
  {
   "cells": [
    {
     "cell_type": "markdown",
     "metadata": {},
     "source": [
      "##Comments##\n",
      "* Non-computational parts of the program that textually describe the behavior of the program.\n",
      "* Comments begin with ``#`` everything to right of the hash is ignored by Python.\n",
      "* Comments should be frequent so you and others can understand the code. "
     ]
    },
    {
     "cell_type": "code",
     "collapsed": false,
     "input": [
      "# Did you notice that these words are green? Any words after\n",
      "# a Hash Tag (#) on the same line are called comments.\n",
      "\n",
      "# Comments are lines of code that the computer does not\n",
      "# look at. These can be used to clarify the purpose of your\n",
      "# code and make it easier to read."
     ],
     "language": "python",
     "metadata": {},
     "outputs": [],
     "prompt_number": 4
    },
    {
     "cell_type": "markdown",
     "metadata": {},
     "source": [
      "## Strings ##\n",
      "\n",
      "* Sequence of characters enclosed by a pair of single or double quotes\n",
      "* Examples are \"cats hate dogs\" and 'Strings are fun!'.\n",
      "* Strings are one kind of data in Python. Their data type is denoted ``str``. "
     ]
    },
    {
     "cell_type": "code",
     "collapsed": false,
     "input": [
      "\"This is a string\""
     ],
     "language": "python",
     "metadata": {},
     "outputs": [
      {
       "metadata": {},
       "output_type": "pyout",
       "prompt_number": 6,
       "text": [
        "'This is a string'"
       ]
      }
     ],
     "prompt_number": 6
    },
    {
     "cell_type": "code",
     "collapsed": false,
     "input": [
      "'This is also a string'"
     ],
     "language": "python",
     "metadata": {},
     "outputs": [
      {
       "metadata": {},
       "output_type": "pyout",
       "prompt_number": 7,
       "text": [
        "'This is also a string'"
       ]
      }
     ],
     "prompt_number": 7
    },
    {
     "cell_type": "markdown",
     "metadata": {},
     "source": [
      "## Print Statements ##\n",
      "\n",
      "To print these strings and other things to the box on the right, the word print is used."
     ]
    },
    {
     "cell_type": "code",
     "collapsed": false,
     "input": [
      "print \"Output Number One\"\n",
      "print 5.069393"
     ],
     "language": "python",
     "metadata": {},
     "outputs": [
      {
       "output_type": "stream",
       "stream": "stdout",
       "text": [
        "Output Number One\n",
        "5.069393\n"
       ]
      }
     ],
     "prompt_number": 20
    },
    {
     "cell_type": "markdown",
     "metadata": {},
     "source": [
      "Print statements on their own can be used to print blank lines to the screen, which separates output and makes it easier to read. "
     ]
    },
    {
     "cell_type": "code",
     "collapsed": false,
     "input": [
      "print\n",
      "print \"Hello\"\n",
      "print"
     ],
     "language": "python",
     "metadata": {},
     "outputs": [
      {
       "output_type": "stream",
       "stream": "stdout",
       "text": [
        "\n",
        "Hello\n",
        "\n"
       ]
      }
     ],
     "prompt_number": 10
    },
    {
     "cell_type": "markdown",
     "metadata": {},
     "source": [
      "Multiple strings can be printed on the same line by using commas to separate them. This automatically inserts a space in between the two strings."
     ]
    },
    {
     "cell_type": "code",
     "collapsed": false,
     "input": [
      "print \"One\", \"Two\"\n",
      "print \"One\",\"Two\",\"Three\"\n",
      "print"
     ],
     "language": "python",
     "metadata": {},
     "outputs": [
      {
       "output_type": "stream",
       "stream": "stdout",
       "text": [
        "One Two\n",
        "One Two Three\n",
        "\n"
       ]
      }
     ],
     "prompt_number": 21
    },
    {
     "cell_type": "markdown",
     "metadata": {},
     "source": [
      "If you want to include a quotation mark or apostrophe in your string, you need to make the symbols around the string be the opposite type."
     ]
    },
    {
     "cell_type": "code",
     "collapsed": false,
     "input": [
      "print \"'You're awesome!' he said\"\n",
      "print '\"Thank you!\" I replied.'"
     ],
     "language": "python",
     "metadata": {},
     "outputs": [
      {
       "output_type": "stream",
       "stream": "stdout",
       "text": [
        "'You're awesome!' he said\n",
        "\"Thank you!\" I replied.\n"
       ]
      }
     ],
     "prompt_number": 14
    },
    {
     "cell_type": "markdown",
     "metadata": {},
     "source": [
      "If you accidentally use the same ones, errors can occur.\n",
      "\n",
      "Notice that not all of the words are red in the following examples; that is a big clue that something is wrong.\n",
      "\n",
      "To see what errors you can get, uncomment the lines below by deleting the '#' mark at the beginning of the line, and then try running the program.\n",
      "\n",
      "\n",
      "\n"
     ]
    },
    {
     "cell_type": "code",
     "collapsed": false,
     "input": [
      "print 'It's mine'\n",
      "print \"I said \"hi\" to him\""
     ],
     "language": "python",
     "metadata": {},
     "outputs": [
      {
       "ename": "SyntaxError",
       "evalue": "invalid syntax (<ipython-input-15-a5c49eea454d>, line 1)",
       "output_type": "pyerr",
       "traceback": [
        "\u001b[1;36m  File \u001b[1;32m\"<ipython-input-15-a5c49eea454d>\"\u001b[1;36m, line \u001b[1;32m1\u001b[0m\n\u001b[1;33m    print 'It's mine'\u001b[0m\n\u001b[1;37m              ^\u001b[0m\n\u001b[1;31mSyntaxError\u001b[0m\u001b[1;31m:\u001b[0m invalid syntax\n"
       ]
      }
     ],
     "prompt_number": 15
    },
    {
     "cell_type": "markdown",
     "metadata": {},
     "source": [
      "You can also get an error by misspelling 'print.' Notice that again, print shows up as a different color than normal."
     ]
    },
    {
     "cell_type": "code",
     "collapsed": false,
     "input": [
      "prit \"Error\"\n",
      "printer \"Error\""
     ],
     "language": "python",
     "metadata": {},
     "outputs": [
      {
       "ename": "SyntaxError",
       "evalue": "invalid syntax (<ipython-input-16-abc799b605cb>, line 1)",
       "output_type": "pyerr",
       "traceback": [
        "\u001b[1;36m  File \u001b[1;32m\"<ipython-input-16-abc799b605cb>\"\u001b[1;36m, line \u001b[1;32m1\u001b[0m\n\u001b[1;33m    prit \"Error\"\u001b[0m\n\u001b[1;37m               ^\u001b[0m\n\u001b[1;31mSyntaxError\u001b[0m\u001b[1;31m:\u001b[0m invalid syntax\n"
       ]
      }
     ],
     "prompt_number": 16
    },
    {
     "cell_type": "code",
     "collapsed": false,
     "input": [],
     "language": "python",
     "metadata": {},
     "outputs": []
    }
   ],
   "metadata": {}
  }
 ]
}