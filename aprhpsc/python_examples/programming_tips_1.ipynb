{
 "metadata": {
  "name": "",
  "signature": "sha256:0a64b75d24e8e31936670f7831281b9eb2c2aaa7f5e3b626381d39cb83fffa3e"
 },
 "nbformat": 3,
 "nbformat_minor": 0,
 "worksheets": [
  {
   "cells": [
    {
     "cell_type": "markdown",
     "metadata": {},
     "source": [
      "###Docstrings###\n",
      "\n",
      "* Docstring tells you what the program does, not how it does it.\n",
      "* Docstring is surrounded by three quotes, before and after\n",
      "\n",
      "###Comments###\n",
      "\n",
      "* Comments tells you how program does it\n",
      "* Comments are preceded by a hash tag"
     ]
    },
    {
     "cell_type": "code",
     "collapsed": false,
     "input": [
      "import math\n",
      "\n",
      "def area_triangle_sss(side1, side2, side3):\n",
      "    \"\"\"\n",
      "    Returns area of a triangle, given the lengths of its three sides\n",
      "    \"\"\"\n",
      "    \n",
      "    # Heron's formula\n",
      "    semi_perim = (side1 + side2 + side3) / 2.0\n",
      "    return math.sqrt(semi_perim *\n",
      "                     (semi_perim - side1) *\n",
      "                     (semi_perim - side2) *\n",
      "                     (semi_perim - side3))"
     ],
     "language": "python",
     "metadata": {},
     "outputs": []
    },
    {
     "cell_type": "markdown",
     "metadata": {},
     "source": [
      "Conditional Output should always be given if no critera are met, i.e. always use else"
     ]
    },
    {
     "cell_type": "code",
     "collapsed": false,
     "input": [
      "def favourites(instructor):\n",
      "    \"\"\"\n",
      "    Returns the favourite thing of a given instructor\n",
      "    \"\"\"\n",
      "    \n",
      "    if instructor == \"Joe\":\n",
      "        return \"games\"\n",
      "    elif instructor == \"Scott\":\n",
      "        return \"ties\"\n",
      "    elif instructor == \"John\":\n",
      "        return \"outdoors\"\n",
      "    else:\n",
      "        print \"Program saw invalid input:\", instructor\n",
      "    \n",
      "print favourites(\"John\")\n",
      "print favourites(\"Jeannie\")  #Returns None is there is no value\n",
      "    "
     ],
     "language": "python",
     "metadata": {},
     "outputs": [
      {
       "output_type": "stream",
       "stream": "stdout",
       "text": [
        "outdoors\n",
        "Program saw invalid input: Jeannie\n",
        "None\n"
       ]
      }
     ],
     "prompt_number": 7
    },
    {
     "cell_type": "code",
     "collapsed": false,
     "input": [],
     "language": "python",
     "metadata": {},
     "outputs": []
    }
   ],
   "metadata": {}
  }
 ]
}