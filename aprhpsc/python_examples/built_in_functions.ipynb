{
 "metadata": {
  "name": "",
  "signature": "sha256:97bcd3ed7a72562cb386b735a0ad75e7c84c3eb4df39da06e42cf7fc90f8ae00"
 },
 "nbformat": 3,
 "nbformat_minor": 0,
 "worksheets": [
  {
   "cells": [
    {
     "cell_type": "markdown",
     "metadata": {},
     "source": [
      "Examples of built-in functions:"
     ]
    },
    {
     "cell_type": "code",
     "collapsed": false,
     "input": [
      "print int(3.0) #convert to int\n",
      "print float(\"3\") #convert to float\n",
      "print str(34) #convert to string\n",
      "print abs(-5) #absolute value\n",
      "print max(3,5,6,7) #maximum of a set of numbers\n",
      "print min(-50, -40, -20) #minimum of a set of numbers\n",
      "print round(0.123456, 4) #round to 4 d.p."
     ],
     "language": "python",
     "metadata": {},
     "outputs": [
      {
       "output_type": "stream",
       "stream": "stdout",
       "text": [
        "3\n",
        "3.0\n",
        "34\n",
        "5\n",
        "7\n",
        "-50\n",
        "0.1235\n"
       ]
      }
     ],
     "prompt_number": 6
    },
    {
     "cell_type": "code",
     "collapsed": false,
     "input": [],
     "language": "python",
     "metadata": {},
     "outputs": []
    }
   ],
   "metadata": {}
  }
 ]
}