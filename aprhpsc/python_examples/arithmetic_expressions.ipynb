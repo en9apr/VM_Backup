{
 "metadata": {
  "name": "",
  "signature": "sha256:4547889e66e2c61e2e1ff3695782bdadc6278a4c8f9fb0342f9e717775caaf79"
 },
 "nbformat": 3,
 "nbformat_minor": 0,
 "worksheets": [
  {
   "cells": [
    {
     "cell_type": "markdown",
     "metadata": {},
     "source": [
      "## 2.1 Number ##\n",
      "\n",
      "### 2.1.1 Types of Number ###\n",
      "\n",
      "* An integer number - ``int()`` \n",
      "* A decimal number - ``float()``\n",
      "* Use ``type()`` to determine the type of number"
     ]
    },
    {
     "cell_type": "code",
     "collapsed": false,
     "input": [
      "print type(3), type(3.142)"
     ],
     "language": "python",
     "metadata": {},
     "outputs": [
      {
       "output_type": "stream",
       "stream": "stdout",
       "text": [
        "<type 'int'> <type 'float'>\n"
       ]
      }
     ],
     "prompt_number": 23
    },
    {
     "cell_type": "markdown",
     "metadata": {},
     "source": [
      "### 2.1.2 Conversion of Numbers ###\n",
      "* Convert from ``float`` to ``int`` using ``int()`` - **takes whole part of decimal number**\n",
      "* Convert from ``int`` to ``float`` using ``float()`` - **adds decimal point**"
     ]
    },
    {
     "cell_type": "code",
     "collapsed": false,
     "input": [
      "print int(3.142), int(-2.8)\n",
      "print float(3), float(-1)"
     ],
     "language": "python",
     "metadata": {},
     "outputs": [
      {
       "output_type": "stream",
       "stream": "stdout",
       "text": [
        "3 -2\n",
        "3.0 -1.0\n"
       ]
      }
     ],
     "prompt_number": 21
    },
    {
     "cell_type": "markdown",
     "metadata": {},
     "source": [
      "### 2.1.3 Floating Point Error ###\n",
      "\n",
      "Floating point numbers are an approximation to decimal numbers. Python floating point numbers can only display 12 decimal digits."
     ]
    },
    {
     "cell_type": "code",
     "collapsed": false,
     "input": [
      "# 50 digit approximation of pi, Python displays 12 decimal digits - floating point error\n",
      "\n",
      "print 3.1415926535897932384626433832795028841971"
     ],
     "language": "python",
     "metadata": {},
     "outputs": [
      {
       "output_type": "stream",
       "stream": "stdout",
       "text": [
        "3.14159265359\n"
       ]
      }
     ],
     "prompt_number": 5
    },
    {
     "cell_type": "markdown",
     "metadata": {},
     "source": [
      "## 2.2 Arithmetic Operators ##\n",
      "\n",
      "### 2.2.1 Types of Arithmetic Operator ###\n",
      "* addition ``+``\t\t\n",
      "* subtraction ``-``\t\t\n",
      "* multiplication ``*``\t\t\n",
      "* division ``/``\t\t\n",
      "* exponentiation ``**``    "
     ]
    },
    {
     "cell_type": "code",
     "collapsed": false,
     "input": [
      "print 1 + 2, 3 - 4, 5 * 6, 2 ** 5"
     ],
     "language": "python",
     "metadata": {},
     "outputs": [
      {
       "output_type": "stream",
       "stream": "stdout",
       "text": [
        "3 -1 30 32\n"
       ]
      }
     ],
     "prompt_number": 7
    },
    {
     "cell_type": "markdown",
     "metadata": {},
     "source": [
      "### 2.2.2 Division in Python 2 ###\n",
      "\n",
      "if one operand is a decimal (float), the answer is decimal"
     ]
    },
    {
     "cell_type": "code",
     "collapsed": false,
     "input": [
      "print 1.0 / 3, 5.0 / 2.0, -7 / 3.0"
     ],
     "language": "python",
     "metadata": {},
     "outputs": [
      {
       "output_type": "stream",
       "stream": "stdout",
       "text": [
        "0.333333333333 2.5 -2.33333333333\n"
       ]
      }
     ],
     "prompt_number": 8
    },
    {
     "cell_type": "markdown",
     "metadata": {},
     "source": [
      "If both operands are ints, the answer is an int (next lowest integer after division)"
     ]
    },
    {
     "cell_type": "code",
     "collapsed": false,
     "input": [
      "print 1 / 3, 5 / 2, -7 / 3   # positive numbers round \"down\" - negative numbers round \"up\""
     ],
     "language": "python",
     "metadata": {},
     "outputs": [
      {
       "output_type": "stream",
       "stream": "stdout",
       "text": [
        "0 2 -3\n"
       ]
      }
     ],
     "prompt_number": 13
    },
    {
     "cell_type": "markdown",
     "metadata": {},
     "source": [
      "### 2.2.3 Integer Division###\n",
      "\n",
      "The integer division operator ``//`` returns the quotient of two numbers - to get whole numbers from floats"
     ]
    },
    {
     "cell_type": "code",
     "collapsed": false,
     "input": [
      "27.0//6.0"
     ],
     "language": "python",
     "metadata": {},
     "outputs": [
      {
       "metadata": {},
       "output_type": "pyout",
       "prompt_number": 13,
       "text": [
        "4.0"
       ]
      }
     ],
     "prompt_number": 13
    },
    {
     "cell_type": "markdown",
     "metadata": {},
     "source": [
      "``//`` is always the same as ``int()`` for +ve but not for -ve numbers:\n",
      "* Integer division rounds toward -ve infinity for -ve numbers\n",
      "* Converting float to integer rounds towards zero for -ve numbers"
     ]
    },
    {
     "cell_type": "code",
     "collapsed": false,
     "input": [
      "print \"Same:\", 6.0//5.0, int(6.0/5.0)\n",
      "print \"Different\", -6.0//5.0, int(-6.0/5.0)"
     ],
     "language": "python",
     "metadata": {},
     "outputs": [
      {
       "output_type": "stream",
       "stream": "stdout",
       "text": [
        "Same: 1.0 1\n",
        "Different -2.0 -1\n"
       ]
      }
     ],
     "prompt_number": 14
    },
    {
     "cell_type": "markdown",
     "metadata": {},
     "source": [
      "### 2.2.4 Division by Zero###"
     ]
    },
    {
     "cell_type": "markdown",
     "metadata": {},
     "source": [
      "Also, you should always check for division by zero, e.g."
     ]
    },
    {
     "cell_type": "code",
     "collapsed": false,
     "input": [
      "print \"Error:\", 4 / (3 * 4 - 12)"
     ],
     "language": "python",
     "metadata": {},
     "outputs": [
      {
       "output_type": "stream",
       "stream": "stdout",
       "text": [
        "Error:"
       ]
      },
      {
       "ename": "ZeroDivisionError",
       "evalue": "integer division or modulo by zero",
       "output_type": "pyerr",
       "traceback": [
        "\u001b[1;31m---------------------------------------------------------------------------\u001b[0m\n\u001b[1;31mZeroDivisionError\u001b[0m                         Traceback (most recent call last)",
        "\u001b[1;32m<ipython-input-15-9feef0164e82>\u001b[0m in \u001b[0;36m<module>\u001b[1;34m()\u001b[0m\n\u001b[1;32m----> 1\u001b[1;33m \u001b[1;32mprint\u001b[0m \u001b[1;34m\"Error:\"\u001b[0m\u001b[1;33m,\u001b[0m \u001b[1;36m4\u001b[0m \u001b[1;33m/\u001b[0m \u001b[1;33m(\u001b[0m\u001b[1;36m3\u001b[0m \u001b[1;33m*\u001b[0m \u001b[1;36m4\u001b[0m \u001b[1;33m-\u001b[0m \u001b[1;36m12\u001b[0m\u001b[1;33m)\u001b[0m\u001b[1;33m\u001b[0m\u001b[0m\n\u001b[0m",
        "\u001b[1;31mZeroDivisionError\u001b[0m: integer division or modulo by zero"
       ]
      }
     ],
     "prompt_number": 15
    },
    {
     "cell_type": "markdown",
     "metadata": {},
     "source": [
      "## 2.3 Arithmetic Expressions ##\n",
      "\n",
      "Arithmetic Expressions are:\n",
      "\n",
      "* A number \n",
      "* Binary operator applied to two expressions ``** * / + -``\n",
      "* Unary operator applied to one expression ``+ -`` (but ``+`` is useless as a unary operator)\n",
      "\n",
      "Expressions are formed by grouping operands and operators via precedence:\n",
      "\n",
      "1. Please (parentheses) ``()``\n",
      "\n",
      "2. Excuse (exponetiation) ``**`` (this includes roots e.g. $ \\sqrt{2} $ is $ 2^{-0.5} $)\n",
      "\n",
      "3. My (muliplication) ``*``\n",
      "3. Dear (division) ``/``\n",
      "\n",
      "4. Aunt (addition) ``+``\n",
      "4. Sally (subtraction) ``-``\n",
      "\n",
      "Multiplication and division actually have equal precedence, so they are done in the order they appear. The same applies to addition and subtraction. You can remember this because Muliplication is the opposite of Division and Addition is the opposite of Subtraction.\n",
      "\n",
      "P E MD AS\n"
     ]
    },
    {
     "cell_type": "markdown",
     "metadata": {},
     "source": [
      "## 2.4 Concatenate Expressions on Multiple Lines ##\n",
      "* Use brackets ``()`` to implicitly concatenate over multiple lines - works for all operators\n",
      "* Or use backslash ``\\``"
     ]
    },
    {
     "cell_type": "code",
     "collapsed": false,
     "input": [
      "def this_function():\n",
      "    if(1 == 1 or \n",
      "       3 != 43):\n",
      "        return (0 + 0 - 0 * 0 - 0 / 1 - 0 ** 1 +\n",
      "            1 + 1 + 1 + 1)"
     ],
     "language": "python",
     "metadata": {},
     "outputs": [],
     "prompt_number": 6
    },
    {
     "cell_type": "code",
     "collapsed": false,
     "input": [
      "this_function()"
     ],
     "language": "python",
     "metadata": {},
     "outputs": [
      {
       "metadata": {},
       "output_type": "pyout",
       "prompt_number": 7,
       "text": [
        "4"
       ]
      }
     ],
     "prompt_number": 7
    },
    {
     "cell_type": "code",
     "collapsed": false,
     "input": [
      "def this_function_2():\n",
      "    if(1 == 1 or \n",
      "       3 != 43):\n",
      "        logical_statement = 1 == 2 or \\\n",
      "                            2 == 2\n",
      "        return 0 + 0 - 0 * 0 - 0 / 1 - 0 ** 1 + \\\n",
      "            1 + 1 + 1 + 1"
     ],
     "language": "python",
     "metadata": {},
     "outputs": [],
     "prompt_number": 9
    },
    {
     "cell_type": "code",
     "collapsed": false,
     "input": [
      "this_function_2()"
     ],
     "language": "python",
     "metadata": {},
     "outputs": [
      {
       "metadata": {},
       "output_type": "pyout",
       "prompt_number": 5,
       "text": [
        "4"
       ]
      }
     ],
     "prompt_number": 5
    },
    {
     "cell_type": "code",
     "collapsed": false,
     "input": [
      "print 1 + 2 * 3, 4.0 - 5.0 / 6.0, 7 * 8 + 9 * 10"
     ],
     "language": "python",
     "metadata": {},
     "outputs": [
      {
       "output_type": "stream",
       "stream": "stdout",
       "text": [
        "7 3.16666666667 146\n"
       ]
      }
     ],
     "prompt_number": 15
    },
    {
     "cell_type": "code",
     "collapsed": false,
     "input": [
      "print 1 - 3 + 3 - 4\n",
      "print 2 + 12"
     ],
     "language": "python",
     "metadata": {},
     "outputs": [
      {
       "output_type": "stream",
       "stream": "stdout",
       "text": [
        "-3\n",
        "14\n"
       ]
      }
     ],
     "prompt_number": 6
    },
    {
     "cell_type": "code",
     "collapsed": false,
     "input": [
      "print 1 * (2 + 3) * 4\n",
      "print 1 * 5 * 4"
     ],
     "language": "python",
     "metadata": {},
     "outputs": [
      {
       "output_type": "stream",
       "stream": "stdout",
       "text": [
        "20\n",
        "20\n"
       ]
      }
     ],
     "prompt_number": 17
    },
    {
     "cell_type": "code",
     "collapsed": false,
     "input": [
      "(6/4)"
     ],
     "language": "python",
     "metadata": {},
     "outputs": [
      {
       "metadata": {},
       "output_type": "pyout",
       "prompt_number": 7,
       "text": [
        "1"
       ]
      }
     ],
     "prompt_number": 7
    },
    {
     "cell_type": "code",
     "collapsed": false,
     "input": [],
     "language": "python",
     "metadata": {},
     "outputs": []
    }
   ],
   "metadata": {}
  }
 ]
}