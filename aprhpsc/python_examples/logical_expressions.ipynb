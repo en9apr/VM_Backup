{
 "metadata": {
  "name": "",
  "signature": "sha256:a54873adcdd7657af490f78e055b4186695a99eba2ebf72afc6f81f0bd465e7e"
 },
 "nbformat": 3,
 "nbformat_minor": 0,
 "worksheets": [
  {
   "cells": [
    {
     "cell_type": "markdown",
     "metadata": {},
     "source": [
      "###6.1 Syntax of Logical Expressions###\n",
      "\n",
      "* Can defined constants equal to ``True`` and ``False`` of the type ``bool``\n",
      "* These constants can be combined to form a Logical Expression via the Logical Operators ``and``, ``or`` and ``not``\n",
      "\n",
      "###6.2 Sematics of Logical Expressions###\n",
      "* ``a and b`` is True only if both expressions are True\n",
      "* ``a or b`` is True if at least one expression is True\n",
      "* ``not a`` is True if the single expression is False\n",
      "\n",
      "Looked at differently:\n",
      "\n",
      "    True and True is True\n",
      "    True and False is False\n",
      "    False and True is False\n",
      "    False and False is False\n",
      "\n",
      "    True or True is True\n",
      "    True or False is True\n",
      "    False or True is True\n",
      "    False or False is False\n",
      "\n",
      "    not True is False\n",
      "    not False is True\n",
      "\n",
      "###6.3 Truth Tables for Logical Expressions###\n",
      "\n",
      "| a     | NOT a |\n",
      "|-------|-------|\n",
      "|T      |F      |\n",
      "|F      |T      |\n",
      "\n",
      "| a | b | a AND b | a OR b  |\n",
      "|---|---|---------|---------|\n",
      "|F  |F  |F        |F        |\n",
      "|F  |T  |F        |T        |\n",
      "|T  |F  |F        |T        |\n",
      "|T  |T  |T        |T        |\n",
      "\n"
     ]
    },
    {
     "cell_type": "markdown",
     "metadata": {},
     "source": [
      "(a AND b)OR (c AND(NOT d))"
     ]
    },
    {
     "cell_type": "code",
     "collapsed": false,
     "input": [
      "a = True\n",
      "b = False\n",
      "c = True\n",
      "d = False\n",
      "\n",
      "print a\n",
      "print b\n",
      "\n",
      "print \"===\"\n",
      "\n",
      "print not a\n",
      "print a and b\n",
      "print a or b\n",
      "\n",
      "print (a and b) or (c and (not d))"
     ],
     "language": "python",
     "metadata": {},
     "outputs": [
      {
       "output_type": "stream",
       "stream": "stdout",
       "text": [
        "True\n",
        "False\n",
        "===\n",
        "False\n",
        "False\n",
        "True\n",
        "True\n"
       ]
      }
     ],
     "prompt_number": 1
    },
    {
     "cell_type": "code",
     "collapsed": false,
     "input": [
      "type(a)"
     ],
     "language": "python",
     "metadata": {},
     "outputs": [
      {
       "metadata": {},
       "output_type": "pyout",
       "prompt_number": 2,
       "text": [
        "bool"
       ]
      }
     ],
     "prompt_number": 2
    },
    {
     "cell_type": "code",
     "collapsed": false,
     "input": [],
     "language": "python",
     "metadata": {},
     "outputs": []
    }
   ],
   "metadata": {}
  }
 ]
}