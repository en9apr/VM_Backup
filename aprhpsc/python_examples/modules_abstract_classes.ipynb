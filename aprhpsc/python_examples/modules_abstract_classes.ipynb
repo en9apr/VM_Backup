{
 "metadata": {
  "name": "",
  "signature": "sha256:ebc3f2a0f339ad87086cb9ee52a04ea9aeb17d8ec39d3860121ed362b620ffef"
 },
 "nbformat": 3,
 "nbformat_minor": 0,
 "worksheets": [
  {
   "cells": [
    {
     "cell_type": "markdown",
     "metadata": {},
     "source": [
      "###5b.1 Sematics of Modules###\n",
      "* Modules are abstract classes, meaning they contain methods and constants, but cannot be instantiated.\n",
      "* Modules are libraries that implement useful operations not included in the basic code\n",
      "\n",
      "###5b.2 Syntax of Modules###\n",
      "\n",
      "* Modules can be accessed via the ``import`` statement\n",
      "* Examples of modules are ``math`` and ``random``\n",
      "* Don't use modules names as variable names"
     ]
    },
    {
     "cell_type": "markdown",
     "metadata": {},
     "source": [
      "###5b.3 Math Module###"
     ]
    },
    {
     "cell_type": "code",
     "collapsed": false,
     "input": [
      "import math\n",
      "\n",
      "print math.ceil(5.6) #Round up\n",
      "print math.floor(5.6) #Round down\n",
      "\n",
      "print math.pow(3,4) #3 to the power of 4\n",
      "\n",
      "print math.fabs(-5) #absolute value\n",
      "\n",
      "print math.sqrt(4) #square root\n",
      "\n",
      "print math.radians(180) #convert to radians\n",
      "print math.degrees(3.1415926) # convert to degrees\n",
      "\n",
      "print math.pi #pi\n",
      "print math.e # e^1\n",
      "print math.exp(1) #e^1 "
     ],
     "language": "python",
     "metadata": {},
     "outputs": [
      {
       "output_type": "stream",
       "stream": "stdout",
       "text": [
        "6.0\n",
        "5.0\n",
        "81.0\n",
        "5.0\n",
        "2.0\n",
        "3.14159265359\n",
        "179.99999693\n",
        "3.14159265359\n",
        "2.71828182846\n",
        "2.71828182846\n"
       ]
      }
     ],
     "prompt_number": 14
    },
    {
     "cell_type": "markdown",
     "metadata": {},
     "source": [
      "###5b.4 Random Module###"
     ]
    },
    {
     "cell_type": "code",
     "collapsed": false,
     "input": [
      "import random\n",
      "\n",
      "print random.choice([1,2,3,4,5]) #Random choice from a list\n",
      "print random.randint(0,10) #random integer from 0 to 10 (including 10)\n",
      "print random.randrange(0,10) #random integer from 0 to 10 (not including 10)\n",
      "print random.random() #random float from 0.0 to 1.0 (not including 1.0)"
     ],
     "language": "python",
     "metadata": {},
     "outputs": [
      {
       "output_type": "stream",
       "stream": "stdout",
       "text": [
        "1\n",
        "3\n",
        "2\n",
        "0.622180301476\n"
       ]
      }
     ],
     "prompt_number": 31
    },
    {
     "cell_type": "code",
     "collapsed": false,
     "input": [],
     "language": "python",
     "metadata": {},
     "outputs": [],
     "prompt_number": 28
    },
    {
     "cell_type": "code",
     "collapsed": false,
     "input": [],
     "language": "python",
     "metadata": {},
     "outputs": []
    }
   ],
   "metadata": {}
  }
 ]
}