{
 "metadata": {
  "name": "",
  "signature": "sha256:a79f42eb3df2c29e7727f48e306cfa5b2ffa3a78db2fb423810afaba6500c36e"
 },
 "nbformat": 3,
 "nbformat_minor": 0,
 "worksheets": [
  {
   "cells": [
    {
     "cell_type": "markdown",
     "metadata": {},
     "source": [
      "###3.0 Assumptions###\n",
      "**3.0.1** Newtonian fluid:\n",
      "\n",
      "*3.0.1.1* linear relationship between stress and strain\n",
      "\n",
      "*3.0.1.2* viscosity is constant\n",
      "    \n",
      "**3.0.2** Flow is incompressible:\n",
      "\n",
      "*3.0.2.1* density constant\n",
      "\n",
      "**3.0.3** Flow is isothermal:\n",
      "\n",
      "*3.0.3.1* temperature constant"
     ]
    },
    {
     "cell_type": "markdown",
     "metadata": {},
     "source": [
      "###3.1 Normal Stresses###\n",
      "\n",
      "$$ \\sigma_{xx} = -p + 2 \\mu {\\partial u \\over \\partial x} $$\n",
      "$$ \\sigma_{yy} = -p + 2 \\mu {\\partial v \\over \\partial y} $$\n",
      "$$ \\sigma_{zz} = -p + 2 \\mu {\\partial w \\over \\partial z} $$"
     ]
    },
    {
     "cell_type": "markdown",
     "metadata": {},
     "source": [
      "$\\nabla \\cdot \\vec V = 0$ for incompressible flow: \n",
      "\n",
      "$$ {1 \\over 3} ( \\sigma_{xx} + \\sigma_{yy} + \\sigma_{zz}) = -p $$"
     ]
    },
    {
     "cell_type": "markdown",
     "metadata": {},
     "source": [
      "###3.2 Shear Stresses###\n",
      "\n",
      "$$ \\tau_{xy} = \\tau_{yx} = \\mu \\left ({\\partial u \\over \\partial y} + {\\partial v \\over \\partial x} \\right ) $$\n",
      "$$ \\tau_{yz} = \\tau_{zy} = \\mu \\left ({\\partial v \\over \\partial z} + {\\partial w \\over \\partial y} \\right )  $$\n",
      "$$ \\tau_{zx} = \\tau_{xz} = \\mu \\left ({\\partial w \\over \\partial x} + {\\partial u \\over \\partial z} \\right )  $$"
     ]
    },
    {
     "cell_type": "markdown",
     "metadata": {},
     "source": [
      "###3.3 x-direction Momentum Equation for a Newtonian, incompressible, isothermal fluid###\n",
      "\n",
      "**3.3.1** From 2.1.1:\n",
      "\n",
      "$$ \\rho g_x + {\\partial \\sigma_{xx} \\over \\partial x} + {\\partial \\tau_{yx} \\over \\partial y} + {\\partial \\tau_{zx} \\over \\partial z} = \\rho \\left ( {\\partial u \\over \\partial t} + u{\\partial u \\over \\partial x} + v {\\partial u \\over \\partial y} + w {\\partial u \\over \\partial z} \\right ) $$\n",
      "\n",
      "**3.3.2** Substitute in normal stresses and shear stresses:\n",
      "\n",
      "$$ \\rho g_x -{\\partial p \\over \\partial x}+2 \\mu {\\partial^2 u \\over \\partial x^2} + \\mu \\left ({\\partial^2 u \\over \\partial y^2} + {\\partial^2 v \\over \\partial y \\partial x} \\right ) + \\mu \\left ({\\partial^2 w \\over \\partial z \\partial x} + {\\partial^2 u \\over \\partial z^2} \\right ) = \\rho \\left ( {\\partial u \\over \\partial t} + u{\\partial u \\over \\partial x} + v {\\partial u \\over \\partial y} + w {\\partial u \\over \\partial z} \\right ) $$\n",
      "\n",
      "**3.3.3** Rewrite:\n",
      "\n",
      "$$ \\rho g_x -{\\partial p \\over \\partial x}+\\mu \\left ({\\partial^2 u \\over \\partial x^2} + {\\partial^2 u \\over \\partial y^2} + {\\partial^2 u \\over \\partial z^2} \\right ) + \\mu {\\partial \\over \\partial x} \\left ({\\partial u \\over \\partial x} + {\\partial v \\over \\partial y} + {\\partial w \\over \\partial z} \\right ) = \\rho \\left ( {\\partial u \\over \\partial t} + u{\\partial u \\over \\partial x} + v {\\partial u \\over \\partial y} + w {\\partial u \\over \\partial z} \\right ) $$\n",
      "\n",
      "**3.3.4** $\\nabla \\cdot \\vec V = 0$ for incompressible flow:\n",
      "\n",
      "$$ \\rho g_x -{\\partial p \\over \\partial x}+\\mu \\left ({\\partial^2 u \\over \\partial x^2} + {\\partial^2 u \\over \\partial y^2} + {\\partial^2 u \\over \\partial z^2} \\right ) = \\rho \\left ( {\\partial u \\over \\partial t} + u{\\partial u \\over \\partial x} + v {\\partial u \\over \\partial y} + w {\\partial u \\over \\partial z} \\right ) $$"
     ]
    },
    {
     "cell_type": "markdown",
     "metadata": {},
     "source": [
      "###3.4 Vector Notation###\n",
      "\n",
      "$$ \\rho \\vec g-  \\nabla p + \\mu \\nabla^2 \\vec V = \\rho \\left ( {\\partial \\over \\partial t} \\vec V + \\vec V (\\nabla \\cdot \\vec V) \\right ) $$"
     ]
    },
    {
     "cell_type": "markdown",
     "metadata": {},
     "source": [
      "This form perserves the concept of F = ma, in other words the gravitational, pressure and viscous forces acting on the system cause the fluid acceleration and convection"
     ]
    },
    {
     "cell_type": "markdown",
     "metadata": {},
     "source": [
      "###3.5 Solutions###\n",
      "\n",
      "**3.5.1** 3 Equations + Continuity = 4 Equations\n",
      "\n",
      "**3.5.2** Unknowns = u, v, w, p, $\\rho$ = 5 Unknowns\n",
      "\n",
      "**3.5.3** Need an equation of state - to related pressure and density\n",
      "\n",
      "**3.5.4** This is a non-linear 2nd order PDE - very few known solutions (parallel plates, pipe flow, concentric cylinders). The non-linear part is $(\\vec V \\cdot \\nabla) \\vec V$\n",
      "\n",
      "**3.5.5** Only general approach is computational"
     ]
    },
    {
     "cell_type": "code",
     "collapsed": false,
     "input": [],
     "language": "python",
     "metadata": {},
     "outputs": []
    }
   ],
   "metadata": {}
  }
 ]
}