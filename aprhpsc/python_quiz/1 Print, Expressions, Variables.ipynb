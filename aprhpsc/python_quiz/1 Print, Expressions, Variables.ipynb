{
 "metadata": {
  "name": "",
  "signature": "sha256:d260b22ec42a03bd0eea26071da93e81380cbfed6c86ffcb0a0b025a9b6a034f"
 },
 "nbformat": 3,
 "nbformat_minor": 0,
 "worksheets": [
  {
   "cells": [
    {
     "cell_type": "markdown",
     "metadata": {},
     "source": [
      "###Question 1###\n",
      "\n",
      "Which of the following are syntactically correct strings?\n",
      "\n",
      "* **``'She shouted \"Hello!\" very loudly.'``**\n",
      "* **``\"Hello, world.\"``**\n",
      "* ``[Hello]`` (not a string - string must use quotation marks)\n",
      "* ``Hello`` (not a string - string must use quotation marks)\n",
      "* **``'This course is great!'``**\n",
      "\n",
      "###Question 2###\n",
      "\n",
      "To display a value in the console, what Python keyword do you use?\n",
      "\n",
      "``print``\n",
      "\n",
      "###Question 3###\n",
      "\n",
      "In the following code, the one line starting with #. What does this line mean to Python?\n",
      "\n",
      "    tax_rate = 0.15\n",
      "    income = 40000\n",
      "    deduction = 10000\n",
      "    # Calculate income taxes\n",
      "    tax = (income - deduction) * tax_rate\n",
      "    print tax\n",
      "\n",
      "* This text is used as a file name for the code.\n",
      "* The text is stored in a special variable called #.\n",
      "* This is a syntax error.\n",
      "* This text is printed on the console.\n",
      "* **This is a comment aimed at the human reader. Python ignores such comments.**\n",
      "\n",
      "###Question 4###\n",
      "\n",
      "Which of the following arithmetic expressions are syntactically correct?\n",
      "\n",
      "* __``7 / +4``__\n",
      "* ``9 + * 4`` (syntax error - two operators are together)\n",
      "* __``(8 + (1 + (2 * 4) - 3))``__\n",
      "* __``(7 - 2) / (3 ** 2)``__\n",
      "* ``9 - (2 - (4 * 3)`` (syntax error - parenthesis not closed)\n",
      "\n",
      "###Question 5###\n",
      "\n",
      "You would like to make it so that the variable ounces has the value 16, thus representing one pound. What simple Python statement will accomplish this?\n",
      "\n",
      "* ``16 = ounces`` (syntax error)\n",
      "* __``ounces = 16``__\n",
      "* ``ounces := 16`` (syntax error)\n",
      "\n",
      "###Question 6###\n",
      "\n",
      "A gram is equal to 0.035274 ounces. Assume that the variable mass_in_ounces has a value representing a mass in ounces. Which arithmetic expressions below using the variable mass_in_ounces represent the equivalent mass in grams?\n",
      "\n",
      "* ``0.035274 * mass_in_ounces``\n",
      "* __``mass_in_ounces / 0.035274``__\n",
      "* ``0.035274 / mass_in_ounces``\n",
      "* ``mass_in_ounces * 0.035274``\n",
      "\n",
      "###Question 7###\n",
      "\n",
      "Which of the following can be used as a variable name?\n",
      "\n",
      "* __``ounces``__\n",
      "* ``16ounces`` (syntax error - cannot start variable with digits)\n",
      "* __``number123``__\n",
      "* ``my-number`` (syntax error - dash is a minus sign)\n",
      "* __``MYnumber``__ (ok but unconventional)\n",
      "* **``__number__``** (ok but only for special variables)\n",
      "\n",
      "###Question 8###\n",
      "\n",
      "Assume you have values in the variables x and y. Which statement(s) would result in x having the sum of the current values of x and y?\n",
      "\n",
      "* __``x += y``__\n",
      "* __``x = x + y``__\n",
      "* ``y += x``\n",
      "* ``x += x + y``\n",
      "\n",
      "###Question 9###\n",
      "\n",
      "Python file names traditionally end in what characters after a period? Don't include the period.\n",
      "\n",
      "``py``\n",
      "\n",
      "###Question 10###\n",
      "\n",
      "We encourage you to save your CodeSkulptor Python files where?\n",
      "\n",
      "* Nowhere \u2014 CodeSkulptor automatically saves your files for you\n",
      "* On your computer only\n",
      "* __In \"the cloud\" and on your computer__\n",
      "* In \"the cloud\" only\n",
      "\n",
      "\n"
     ]
    },
    {
     "cell_type": "code",
     "collapsed": false,
     "input": [
      "print 'She shouted \"Hello!\" very loudly.', \"Hello, world.\", 'This course is great!'"
     ],
     "language": "python",
     "metadata": {},
     "outputs": [
      {
       "output_type": "stream",
       "stream": "stdout",
       "text": [
        "She shouted \"Hello!\" very loudly. Hello, world. This course is great!\n"
       ]
      }
     ],
     "prompt_number": 10
    },
    {
     "cell_type": "code",
     "collapsed": false,
     "input": [
      "print 7 / +4, (8 + (1 + (2 * 4) - 3)), (7 - 2) / (3 ** 2),"
     ],
     "language": "python",
     "metadata": {},
     "outputs": [
      {
       "output_type": "stream",
       "stream": "stdout",
       "text": [
        "1 14 0\n"
       ]
      }
     ],
     "prompt_number": 9
    },
    {
     "cell_type": "code",
     "collapsed": false,
     "input": [
      "ounces = 16"
     ],
     "language": "python",
     "metadata": {},
     "outputs": [],
     "prompt_number": 12
    },
    {
     "cell_type": "code",
     "collapsed": false,
     "input": [
      "ounces = 1\n",
      "number123 = 1\n",
      "MYnumber = 1\n",
      "__number__ = 1"
     ],
     "language": "python",
     "metadata": {},
     "outputs": [],
     "prompt_number": 16
    },
    {
     "cell_type": "code",
     "collapsed": false,
     "input": [],
     "language": "python",
     "metadata": {},
     "outputs": []
    }
   ],
   "metadata": {}
  }
 ]
}