{
 "metadata": {
  "name": "",
  "signature": "sha256:6786db936b97559346ead0253398840fa037c65343235fe89f3629e892b6c606"
 },
 "nbformat": 3,
 "nbformat_minor": 0,
 "worksheets": [
  {
   "cells": [
    {
     "cell_type": "code",
     "collapsed": false,
     "input": [
      "# 1. Program doesn't print an error\n",
      "# 2. Program prints output to console\n",
      "# 3. Program prints desired message\n",
      "\n",
      "print \"We want... a shrubbery\""
     ],
     "language": "python",
     "metadata": {},
     "outputs": [
      {
       "output_type": "stream",
       "stream": "stdout",
       "text": [
        "We want... a shrubbery\n"
       ]
      }
     ],
     "prompt_number": 3
    },
    {
     "cell_type": "code",
     "collapsed": false,
     "input": [],
     "language": "python",
     "metadata": {},
     "outputs": []
    }
   ],
   "metadata": {}
  }
 ]
}